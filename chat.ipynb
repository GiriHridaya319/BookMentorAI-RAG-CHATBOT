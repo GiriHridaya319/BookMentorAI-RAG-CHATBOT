{
 "cells": [
  {
   "cell_type": "markdown",
   "id": "b2bb6fba",
   "metadata": {},
   "source": [
    "\n",
    "##### This notebook implements a Retrieval-Augmented Generation (RAG) pipeline following four key steps: **indexing**, where documents are preprocessed and stored for efficient search; **retrieval**, using a hybrid approach combining vector embeddings and BM25 to fetch relevant documents; **augmentation**, which reranks retrieved documents with a Cross-Encoder model to improve relevance and builds the context; and finally, **generation**, where a language model generates answers grounded on the augmented context. This modular design enables accurate, context-aware responses for question answering tasks.\n"
   ]
  },
  {
   "cell_type": "code",
   "execution_count": 85,
   "id": "40995fd2",
   "metadata": {},
   "outputs": [],
   "source": [
    "import os\n",
    "import tempfile\n",
    "\n",
    "import chromadb\n",
    "import ollama\n",
    "from langchain.retrievers import EnsembleRetriever \n",
    "from langchain_community.chat_models import ChatOllama\n",
    "from langchain_community.embeddings import OllamaEmbeddings\n",
    "from langchain.document_loaders import PyMuPDFLoader\n",
    "from langchain_text_splitters import RecursiveCharacterTextSplitter\n",
    "from langchain_chroma import Chroma\n",
    "from langchain_core.documents import Document\n",
    "from langchain.chains import create_retrieval_chain\n",
    "from sentence_transformers import CrossEncoder\n",
    "from langchain.chains.combine_documents import create_stuff_documents_chain\n",
    "from langchain_community.retrievers import BM25Retriever\n",
    "import warnings\n",
    "from pydantic import BaseModel\n",
    "from langchain.schema import BaseRetriever\n"
   ]
  },
  {
   "cell_type": "code",
   "execution_count": 86,
   "id": "3b961f33",
   "metadata": {},
   "outputs": [],
   "source": [
    "warnings.filterwarnings(\"ignore\")"
   ]
  },
  {
   "cell_type": "markdown",
   "id": "d33f2db0",
   "metadata": {},
   "source": [
    "#### Model"
   ]
  },
  {
   "cell_type": "code",
   "execution_count": 87,
   "id": "c33e044a",
   "metadata": {},
   "outputs": [],
   "source": [
    "model = ChatOllama(model =\"llama3.2\")"
   ]
  },
  {
   "cell_type": "markdown",
   "id": "caf81b48",
   "metadata": {},
   "source": [
    "## Data Acquisition amd preprocessing"
   ]
  },
  {
   "cell_type": "markdown",
   "id": "f21ae11d",
   "metadata": {},
   "source": [
    "#### Load and parse a PDF file using ‘PyMuPDF’ library"
   ]
  },
  {
   "cell_type": "code",
   "execution_count": 88,
   "id": "9a3bd73c",
   "metadata": {},
   "outputs": [],
   "source": [
    "pdf_path = \"22067317_Hridaya_Giri_Proposal.pdf\"\n",
    "loader = PyMuPDFLoader(pdf_path)\n",
    "docs = loader.load()"
   ]
  },
  {
   "cell_type": "markdown",
   "id": "c8649ae9",
   "metadata": {},
   "source": [
    "#### Splitting the document into different chunks"
   ]
  },
  {
   "cell_type": "code",
   "execution_count": 89,
   "id": "dc871262",
   "metadata": {},
   "outputs": [],
   "source": [
    "text_splitter = RecursiveCharacterTextSplitter(\n",
    "        chunk_size=400,\n",
    "        chunk_overlap=100,\n",
    "        separators=[\"\\n\\n\", \"\\n\", \".\", \"?\", \"!\", \" \", \"\"],\n",
    "    )"
   ]
  },
  {
   "cell_type": "code",
   "execution_count": 90,
   "id": "c3cf25a9",
   "metadata": {},
   "outputs": [],
   "source": [
    "splits = text_splitter.split_documents(docs)"
   ]
  },
  {
   "cell_type": "markdown",
   "id": "83da6ad9",
   "metadata": {},
   "source": [
    "## Embedding + Vector Store "
   ]
  },
  {
   "cell_type": "code",
   "execution_count": 91,
   "id": "b6da1cd2",
   "metadata": {},
   "outputs": [],
   "source": [
    "ollama_embeddings = OllamaEmbeddings(model = \"nomic-embed-text:latest\")\n",
    "embeded_chunks = ollama_embeddings.embed_documents(docs)"
   ]
  },
  {
   "cell_type": "code",
   "execution_count": 92,
   "id": "eb3565c5",
   "metadata": {},
   "outputs": [
    {
     "data": {
      "text/plain": [
       "['c8fdd5d3-a00b-4391-9537-51e5196710f0',\n",
       " '3033a081-b4ce-4b2d-85a6-c22c8db65893',\n",
       " '2a7ddf16-8fda-4628-a80b-a3d119ba5901',\n",
       " '1fe77444-dd16-41d1-bf79-3f4d3296f750',\n",
       " 'f1f2c136-730b-4824-9774-b90c98f9b785',\n",
       " '3ac50f62-d8f5-4287-9b90-28d930d73b04',\n",
       " 'c8864da6-f9ca-4cf3-ba5d-487c5abfb38d',\n",
       " 'cfe43851-2125-47af-82f8-b99e01795201',\n",
       " '9684e547-82aa-44fe-b9a1-e8fd06a16055',\n",
       " '9f8b6e14-d8db-43d2-8528-d13fae77291b',\n",
       " 'db37b701-2bd6-4899-90e8-42c99e5677e6',\n",
       " '1ab127ea-ebfc-4538-921d-03a678d876a9',\n",
       " 'e5f18b49-a276-4fa3-920a-0d541ee1f8cf',\n",
       " 'c71cfbb6-2cf3-45b0-88bb-1ebbfdddffd3',\n",
       " '0b6f7446-0373-41c1-a2a5-e7183da01e65',\n",
       " '477ffc9f-5237-4361-8239-8123ea81173e',\n",
       " 'f927b26b-56b5-46eb-aded-48bff04389f5',\n",
       " '3607a38b-9f6c-4c78-a11b-6e4ea02a8a20',\n",
       " 'e4e05ea1-8d9a-459e-91ad-0c4778240dec',\n",
       " 'd2816e81-fb5c-425f-b4ec-6138e37e6ee5',\n",
       " 'b9054d0a-4d9e-4d80-a639-24fe69a1dad5',\n",
       " '0f15c5e8-060c-4901-82b0-2a498f4367a3',\n",
       " '82ebcfef-eb78-494e-9aaa-24b84d00912f',\n",
       " 'c42e9462-68ab-4549-af2c-82f5de9a5ad5',\n",
       " '7a07eba7-ce7e-4c4b-a414-9aeef968e042',\n",
       " '6b3fa3b6-9ea3-4f7c-9f17-f2150ce7aa10',\n",
       " '545f6cd3-5f83-4f79-b7b6-9c1e0daabb10',\n",
       " '3f9f3a74-e37c-4613-97a0-3fba7fba9e0a',\n",
       " '5c8f1bae-a931-471d-85f4-cf350cf6f9cb',\n",
       " '5777e5e6-7da1-4466-9e6e-985b29f04b1e',\n",
       " 'df927b46-6ed3-4348-a976-418c8bf39d65',\n",
       " 'd7314756-6a70-40f2-979d-3fc629d77edb',\n",
       " '7455344a-aabd-400f-acd8-4d621e7a5957',\n",
       " '4eb1a322-32fc-44c0-b09c-3b32ba4a95d1',\n",
       " '28eba81f-8c15-43da-8910-7b350e071a4f',\n",
       " '245f2e61-f37a-4eec-91d1-303fff912a41',\n",
       " '8aa1eafb-5323-4365-b622-20dbb1615e2a',\n",
       " '309ad620-8ced-44fc-9dc2-f9db1a170504',\n",
       " '64524c79-3baa-4b31-9758-f06fc0974c15',\n",
       " '5947b4b1-8753-41d6-b33b-d9cd2be3d2cb',\n",
       " '5e8e0c62-ed3d-4f82-b056-81b394742878',\n",
       " '989c3dec-1618-4690-b9f1-335781ed28fd',\n",
       " '737ba28a-4512-48a5-aca2-4de46ecbe902',\n",
       " 'c0aadfc0-9a88-477e-8b82-8c2af804c5f3',\n",
       " '1dbba6f9-10e2-4ae5-b30c-525e54051b16',\n",
       " 'd00730e1-18a5-4680-9766-613bbbfc410f',\n",
       " 'a2a16c95-57c7-4281-8bb5-8a501d1be109',\n",
       " '74fd45a2-00d2-4748-a5a2-1f6fa130fcc3',\n",
       " '874b1d97-c92c-48ef-8cad-10717b3671e9',\n",
       " 'ef555daf-bdd5-4ebc-beb9-06b4007c2acc',\n",
       " '5be33cf1-0500-4df9-bd13-92d4c406e540',\n",
       " 'f90bd885-e413-4471-95b0-b106e9bae84b',\n",
       " '61467df3-9225-41f5-b2a6-ef98b3f97c39',\n",
       " 'fe88b425-4176-47bb-9cad-ed80f9e589f2',\n",
       " '0a3d2094-f3d1-4cef-abe7-b493f89e13f7',\n",
       " '08b29b5a-4559-46a4-9f51-ecc611d06255',\n",
       " '5cea7746-7fdc-4a9b-ad4c-694ebb074516',\n",
       " '25aa2797-066c-443d-98d2-00181eea2ca7',\n",
       " '07b489ff-c009-4264-8cff-2fc73a64cba0',\n",
       " '129eb158-aff9-4ede-9d2e-264116dcc68c',\n",
       " 'a587bfe2-92d0-4233-b8d0-11e9e116935e',\n",
       " '12d3d8ea-53be-4335-bce0-e3d9b2ba7c18',\n",
       " 'e5f83b23-6a4e-4c11-a439-1e45d9377a6d',\n",
       " '10403492-85d8-42a5-b886-2d9375372b34',\n",
       " 'abd5a0fd-9cba-4f99-8fe0-e15c1513422e',\n",
       " '129440ea-0ffb-4c7e-9e55-939f078e9b6a',\n",
       " 'f6c9cf94-d6b7-46f6-8e61-51de5fa97692',\n",
       " '73503846-dbbf-471c-9d2e-bb6c1d89c8cd',\n",
       " '81fa5ac9-a88f-4c22-a7ef-4960fed5160c',\n",
       " '991cc8a0-9d73-4d19-bd34-e72b40039dc6',\n",
       " '01c78a85-0ebb-44b0-8df4-01d4471c55d6',\n",
       " '3e5f33c7-82cc-49de-9c57-eb6009a67357',\n",
       " '375cc822-07fc-4818-824f-c53d380f2061',\n",
       " '5275b2cb-7087-438d-9e4d-8e92c0d2141c',\n",
       " 'c3d51195-64cf-4201-a41a-b580b8768fb9',\n",
       " '8ad5408f-e11b-4e4c-85bd-ae591673432b',\n",
       " '26d06718-4c57-42a0-bc2e-20c16671ee77',\n",
       " '0af2f578-03ab-4038-8f94-139948db851f',\n",
       " '72e84ce2-1609-4bb9-9e44-ae9c8390e608',\n",
       " '1de3a82a-49a9-49c6-9cc2-8e4e7ace40fc',\n",
       " '0cadc3cb-2b57-4e92-9605-47a207170958',\n",
       " 'fb0a2216-9bf3-486c-ba71-f0a3529b2c36',\n",
       " 'f6888e4f-48f3-4bf0-88f6-418afd20151a',\n",
       " 'd19db6e7-3dc1-4005-9c5a-d01016ab46ed',\n",
       " '07546f7a-b632-4ebb-81ce-830ad1103a8c',\n",
       " '14ca3a42-4f85-4d94-9fdb-9fd806d91a65',\n",
       " '7d178c0e-cda9-44da-b19c-6b7fc2fb5d61',\n",
       " '01e87357-7888-4884-a9df-66b388f1b6a4',\n",
       " 'f1536862-63a8-4405-aefa-d112d78267e9',\n",
       " 'bce3882c-a7d3-4941-8c45-8b04eeee65ee',\n",
       " '3108f623-0f32-4dfc-a4d8-ac9c32b801ee',\n",
       " '108abc97-4fce-49a0-a552-8944010cd90c',\n",
       " 'f7f85b0f-988e-43c3-a1eb-c4cec53ba8fe',\n",
       " '2f71516b-41ac-4c1b-aef5-a0710333b6b5',\n",
       " 'a4c97464-9504-4dc1-8def-88f2d9a6546a',\n",
       " 'cb923cdc-71f8-458b-afa0-5b3db7ce2fd0',\n",
       " '72cf787e-4fcf-47b5-b6cb-ffcc66111851',\n",
       " '6735d52d-9de6-4d19-9c33-f266cfaa3c1b',\n",
       " 'e8433474-7c85-408d-9459-b34f394b3eff',\n",
       " '367dddd9-3e46-4575-901c-9f46ba09d064',\n",
       " 'b32c9a56-2c3c-4d7e-84f1-acd76ff71830',\n",
       " 'b50898dd-1ffb-45a4-b2f4-b324bb1bd6eb',\n",
       " '94d525f2-5b07-4d4d-b857-87af9a26bc77',\n",
       " '9b49589b-80ac-484e-9de7-1ede8b97fea3',\n",
       " '01f8b827-1fdf-45bd-8beb-39c5ea5103e2',\n",
       " '9dfad4e7-784a-4146-b82d-0cf19e1b083d',\n",
       " '83b77e13-8256-492a-a8ac-946db8b34ccd',\n",
       " '0918e7a4-0cc3-4e64-a55d-2140538c67ba',\n",
       " '231b2693-d139-4f7a-8299-dc25d5e1db24',\n",
       " '2106cf6b-e2ea-48f2-918b-880dbf55a12c',\n",
       " '8c9fd4d9-f6c5-4614-8cb0-f3921864cb4e',\n",
       " '38849119-f9c7-4dd4-94b7-970f8dfdcbea',\n",
       " '4100e5e2-217f-4ddd-bdd5-2a4edf147c40',\n",
       " '061ae847-37b5-45a7-9164-f0f8846b3ecf',\n",
       " 'e964776b-28e7-4c69-97d5-7c0fe8961e83',\n",
       " 'a42c2ba1-44b3-4444-aed1-31d10c573615',\n",
       " 'c0a43155-8180-45d8-b3d3-a685cb805c32',\n",
       " '20a0ceeb-9aea-40cb-9939-3d0bbf4d0ec7',\n",
       " 'cbd3ba47-0478-4a37-8bed-a079dcdaa60c',\n",
       " '58f4102e-0d82-40af-932f-f3773181add3',\n",
       " '6b4a1ec1-b15f-4a1d-8d6f-c597bf7ec48a',\n",
       " '5ed85585-0801-4e0f-9e0f-221c55ba213f',\n",
       " '93f6ac88-73c2-4d32-8c70-e2963a9dea64']"
      ]
     },
     "execution_count": 92,
     "metadata": {},
     "output_type": "execute_result"
    }
   ],
   "source": [
    "vector_store = Chroma(embedding_function=ollama_embeddings)\n",
    "vector_store.add_documents(documents=splits)"
   ]
  },
  {
   "cell_type": "markdown",
   "id": "54d7e571",
   "metadata": {},
   "source": [
    "#### Semantic similarity search in the vector store "
   ]
  },
  {
   "cell_type": "code",
   "execution_count": 93,
   "id": "a114c05f",
   "metadata": {},
   "outputs": [],
   "source": [
    "# similarity score threshold over similarity to retrive only the best and based on the best semantic search output similarity score more than 0.5 and upto 5\n",
    "\n",
    "semantic_retreive = vector_store.as_retriever(search_type = \"similarity\",search_kwargs ={\"k\":5})"
   ]
  },
  {
   "cell_type": "markdown",
   "id": "09192790",
   "metadata": {},
   "source": [
    "#### BM25 Retrieval for general keyword searching"
   ]
  },
  {
   "cell_type": "code",
   "execution_count": 94,
   "id": "eb11b880",
   "metadata": {},
   "outputs": [],
   "source": [
    "BM25_retrive = BM25Retriever.from_documents(splits)\n",
    "BM25_retrive.k = 5"
   ]
  },
  {
   "cell_type": "markdown",
   "id": "aa60cc99",
   "metadata": {},
   "source": [
    "#### Combining two retrievers as one and more priority to similarity score based retreiver "
   ]
  },
  {
   "cell_type": "code",
   "execution_count": 95,
   "id": "65c3c1d1",
   "metadata": {},
   "outputs": [],
   "source": [
    "combined_retriever = EnsembleRetriever(retrievers=[semantic_retreive,BM25_retrive], weights =[0.7,0.3])"
   ]
  },
  {
   "cell_type": "code",
   "execution_count": 96,
   "id": "86081d4f",
   "metadata": {},
   "outputs": [
    {
     "data": {
      "text/plain": [
       "[Document(id='fb392de4-7508-4d6d-8756-395d0afb6932', metadata={'trapped': '', 'moddate': '2024-12-04T10:26:31+05:45', 'producer': 'Microsoft® Word for Microsoft 365', 'source': '22067317_Hridaya_Giri_Proposal.pdf', 'creator': 'Microsoft® Word for Microsoft 365', 'file_path': '22067317_Hridaya_Giri_Proposal.pdf', 'page': 15, 'modDate': \"D:20241204102631+05'45'\", 'author': 'Hridaya Giri', 'total_pages': 35, 'title': '', 'creationDate': \"D:20241204102631+05'45'\", 'creationdate': '2024-12-04T10:26:31+05:45', 'subject': '', 'format': 'PDF 1.7', 'keywords': ''}, page_content='Scrum stands out as one of the most popular and well-defined methodologies under \\nAgile.  \\nIn contrast to other methodologies like waterfall, which follow a step-by-step \\nhierarchical approach, SCRUM methodology uses sprints, which are goals that are \\nset out over several weeks or months. SCRUM is carried out in various sprints,'),\n",
       " Document(id='e3e5ee45-93b4-400c-a35d-51816352a859', metadata={'page': 15, 'title': '', 'source': '22067317_Hridaya_Giri_Proposal.pdf', 'moddate': '2024-12-04T10:26:31+05:45', 'keywords': '', 'creationDate': \"D:20241204102631+05'45'\", 'creator': 'Microsoft® Word for Microsoft 365', 'format': 'PDF 1.7', 'trapped': '', 'producer': 'Microsoft® Word for Microsoft 365', 'author': 'Hridaya Giri', 'subject': '', 'modDate': \"D:20241204102631+05'45'\", 'file_path': '22067317_Hridaya_Giri_Proposal.pdf', 'total_pages': 35, 'creationdate': '2024-12-04T10:26:31+05:45'}, page_content='explanation please refer here (Considered Methodology) \\n5.2. \\nSelected methodology \\nFor this project, I have chosen the Agile methodology, specifically utilizing the Scrum \\nframework within Agile. As industries and organizations seek continual growth, \\nScrum stands out as one of the most popular and well-defined methodologies under \\nAgile.'),\n",
       " Document(id='b6a060d9-4d62-44b3-9c9f-0cf720b45cb7', metadata={'keywords': '', 'author': 'Hridaya Giri', 'source': '22067317_Hridaya_Giri_Proposal.pdf', 'format': 'PDF 1.7', 'trapped': '', 'title': '', 'subject': '', 'creator': 'Microsoft® Word for Microsoft 365', 'page': 15, 'file_path': '22067317_Hridaya_Giri_Proposal.pdf', 'producer': 'Microsoft® Word for Microsoft 365', 'modDate': \"D:20241204102631+05'45'\", 'creationDate': \"D:20241204102631+05'45'\", 'moddate': '2024-12-04T10:26:31+05:45', 'total_pages': 35, 'creationdate': '2024-12-04T10:26:31+05:45'}, page_content='set out over several weeks or months. SCRUM is carried out in various sprints, \\nwhich are essentially mini projects for larger projects with distinct outcomes. This \\nframework is also suitable for iterative development, and it is flexible and adaptable. \\n \\nFigure 1: SCRUM methodology \\n \\nScrum is chosen for the \"KnowYourHair\" project because of its incremental'),\n",
       " Document(metadata={'producer': 'Microsoft® Word for Microsoft 365', 'creator': 'Microsoft® Word for Microsoft 365', 'creationdate': '2024-12-04T10:26:31+05:45', 'source': '22067317_Hridaya_Giri_Proposal.pdf', 'file_path': '22067317_Hridaya_Giri_Proposal.pdf', 'total_pages': 35, 'format': 'PDF 1.7', 'title': '', 'author': 'Hridaya Giri', 'subject': '', 'keywords': '', 'moddate': '2024-12-04T10:26:31+05:45', 'trapped': '', 'modDate': \"D:20241204102631+05'45'\", 'creationDate': \"D:20241204102631+05'45'\", 'page': 21}, page_content='CS6P05NI \\n \\nFinal Year Project \\n15 \\n22067317 Hridaya Giri \\n9. Gantt Chart \\nFollowing the scrum methodology the project is broken down into different sprints \\neach sprint being 2 weeks long and the frequent reviews and improvement is done, \\nto ensure all the task are done in schedule to ensure proper time management this \\nGantt chart is created as shown in the picture below.'),\n",
       " Document(metadata={'producer': 'Microsoft® Word for Microsoft 365', 'creator': 'Microsoft® Word for Microsoft 365', 'creationdate': '2024-12-04T10:26:31+05:45', 'source': '22067317_Hridaya_Giri_Proposal.pdf', 'file_path': '22067317_Hridaya_Giri_Proposal.pdf', 'total_pages': 35, 'format': 'PDF 1.7', 'title': '', 'author': 'Hridaya Giri', 'subject': '', 'keywords': '', 'moddate': '2024-12-04T10:26:31+05:45', 'trapped': '', 'modDate': \"D:20241204102631+05'45'\", 'creationDate': \"D:20241204102631+05'45'\", 'page': 4}, page_content='13.5.2. \\nPrototype methodology ........................................................................ 23 \\n13.5.3. \\nKanban methodology ........................................................................... 25 \\n13.5.4. \\nIncremental methodology ..................................................................... 26'),\n",
       " Document(metadata={'producer': 'Microsoft® Word for Microsoft 365', 'creator': 'Microsoft® Word for Microsoft 365', 'creationdate': '2024-12-04T10:26:31+05:45', 'source': '22067317_Hridaya_Giri_Proposal.pdf', 'file_path': '22067317_Hridaya_Giri_Proposal.pdf', 'total_pages': 35, 'format': 'PDF 1.7', 'title': '', 'author': 'Hridaya Giri', 'subject': '', 'keywords': '', 'moddate': '2024-12-04T10:26:31+05:45', 'trapped': '', 'modDate': \"D:20241204102631+05'45'\", 'creationDate': \"D:20241204102631+05'45'\", 'page': 3}, page_content='5.1. \\nConsidered methodology .................................................................................. 9 \\n5.2. \\nSelected methodology ...................................................................................... 9 \\n6. \\nResource Requirement .......................................................................................... 11 \\n6.1.'),\n",
       " Document(metadata={'producer': 'Microsoft® Word for Microsoft 365', 'creator': 'Microsoft® Word for Microsoft 365', 'creationdate': '2024-12-04T10:26:31+05:45', 'source': '22067317_Hridaya_Giri_Proposal.pdf', 'file_path': '22067317_Hridaya_Giri_Proposal.pdf', 'total_pages': 35, 'format': 'PDF 1.7', 'title': '', 'author': 'Hridaya Giri', 'subject': '', 'keywords': '', 'moddate': '2024-12-04T10:26:31+05:45', 'trapped': '', 'modDate': \"D:20241204102631+05'45'\", 'creationDate': \"D:20241204102631+05'45'\", 'page': 29}, page_content='the team re-release with better manner. \\n \\n \\nFigure 5: Waterfall methodology \\n \\n13.5.2. \\nPrototype methodology \\nPrototype methodology is creating an early working model to gather feedback from \\nand later build a final version fulfilling all the criteria. The feedback gathered'),\n",
       " Document(metadata={'producer': 'Microsoft® Word for Microsoft 365', 'creator': 'Microsoft® Word for Microsoft 365', 'creationdate': '2024-12-04T10:26:31+05:45', 'source': '22067317_Hridaya_Giri_Proposal.pdf', 'file_path': '22067317_Hridaya_Giri_Proposal.pdf', 'total_pages': 35, 'format': 'PDF 1.7', 'title': '', 'author': 'Hridaya Giri', 'subject': '', 'keywords': '', 'moddate': '2024-12-04T10:26:31+05:45', 'trapped': '', 'modDate': \"D:20241204102631+05'45'\", 'creationDate': \"D:20241204102631+05'45'\", 'page': 33}, page_content='CS6P05NI \\n \\nFinal Year Project \\n27 \\n22067317 Hridaya Giri \\n \\nFigure 8: Incremental Methodology \\n13.6. Selected methodology \\nThe main reasons to choose Scrum methodology as the go to methodology for \\n“KnowYourHair” \\n1. Iterative Development for Complex Features  \\n1. The iterative approach to development divides the project into small sprints,')]"
      ]
     },
     "execution_count": 96,
     "metadata": {},
     "output_type": "execute_result"
    }
   ],
   "source": [
    "combined_retriever.get_relevant_documents(\"scrum methodology\")"
   ]
  },
  {
   "cell_type": "markdown",
   "id": "139a4bb1",
   "metadata": {},
   "source": [
    "### Multi-stage hybrid retrieval pipeline using BM25, VectorRetrieval and CrossEncoderReranker"
   ]
  },
  {
   "cell_type": "markdown",
   "id": "3400ec26",
   "metadata": {},
   "source": [
    "#### Cross Encoder ReRanker manually"
   ]
  },
  {
   "cell_type": "code",
   "execution_count": 97,
   "id": "0dca7c2e",
   "metadata": {},
   "outputs": [],
   "source": [
    "cross_encoder  = CrossEncoder(\"cross-encoder/ms-marco-MiniLM-L-6-v2\")\n",
    "\n",
    "def query_doc(query, docs, top_k = 10):\n",
    "    query_doc_pair = [(query, doc.page_content)for doc in docs]\n",
    "    result_cross_encodere = cross_encoder.predict(query_doc_pair)\n",
    "\n",
    "    #zipping result and docs togther and sorting in descending order\n",
    "    sorted_docs = [doc for _, doc in sorted(zip(result_cross_encodere, docs), reverse=True)]\n",
    "\n",
    "    return sorted_docs[:top_k]\n",
    "\n"
   ]
  },
  {
   "cell_type": "markdown",
   "id": "6ec40f28",
   "metadata": {},
   "source": [
    "#### cross encoder reranking using basemodel and baseretriever"
   ]
  },
  {
   "cell_type": "code",
   "execution_count": 98,
   "id": "446beb9c",
   "metadata": {},
   "outputs": [],
   "source": [
    "class CrossEncoderRerankingRetriever(BaseRetriever, BaseModel):\n",
    "    base_retriever: BaseRetriever\n",
    "    reranker: callable\n",
    "\n",
    "    def get_relevant_documents(self, query, top_k=10):\n",
    "        \n",
    "        retrieved_docs = self.base_retriever.get_relevant_documents(query, top_k=20)  \n",
    "\n",
    "        reranked_docs = self.reranker(query, retrieved_docs, top_k=top_k)\n",
    "        \n",
    "        return reranked_docs"
   ]
  },
  {
   "cell_type": "code",
   "execution_count": 99,
   "id": "1e25f333",
   "metadata": {},
   "outputs": [],
   "source": [
    "cross_encoder_retriever = CrossEncoderRerankingRetriever(\n",
    "    base_retriever=combined_retriever,\n",
    "    reranker=query_doc\n",
    ")"
   ]
  },
  {
   "cell_type": "code",
   "execution_count": 100,
   "id": "4a646a90",
   "metadata": {},
   "outputs": [
    {
     "data": {
      "text/plain": [
       "[Document(id='2b66d115-1a25-422c-8afc-d7da3022ac86', metadata={'subject': '', 'author': 'Hridaya Giri', 'moddate': '2024-12-04T10:26:31+05:45', 'source': '22067317_Hridaya_Giri_Proposal.pdf', 'total_pages': 35, 'format': 'PDF 1.7', 'keywords': '', 'creator': 'Microsoft® Word for Microsoft 365', 'page': 7, 'file_path': '22067317_Hridaya_Giri_Proposal.pdf', 'producer': 'Microsoft® Word for Microsoft 365', 'title': '', 'creationDate': \"D:20241204102631+05'45'\", 'creationdate': '2024-12-04T10:26:31+05:45', 'modDate': \"D:20241204102631+05'45'\", 'trapped': ''}, page_content='clinics directly through the web application, which provides complete information \\nabout the clinics and their services. Additionally, \"KnowYourHair\" also includes a list \\nof hair care products and medications, each with detailed descriptions which the \\nuser can purchase for themselves. The web application also offers instructional'),\n",
       " Document(metadata={'producer': 'Microsoft® Word for Microsoft 365', 'creator': 'Microsoft® Word for Microsoft 365', 'creationdate': '2024-12-04T10:26:31+05:45', 'source': '22067317_Hridaya_Giri_Proposal.pdf', 'file_path': '22067317_Hridaya_Giri_Proposal.pdf', 'total_pages': 35, 'format': 'PDF 1.7', 'title': '', 'author': 'Hridaya Giri', 'subject': '', 'keywords': '', 'moddate': '2024-12-04T10:26:31+05:45', 'trapped': '', 'modDate': \"D:20241204102631+05'45'\", 'creationDate': \"D:20241204102631+05'45'\", 'page': 33}, page_content='1. The product backlog prioritizes crucial functionalities, such as risk prediction \\nand prevention suggestions, to ensure timely completion of the most \\nimportant outcomes.  \\n2. Future sprints can include other elements such as clinic advice, preventative \\ntips, and an ecommerce site.  \\n \\n3. Provide frequent feedback for continued improvement.'),\n",
       " Document(metadata={'producer': 'Microsoft® Word for Microsoft 365', 'creator': 'Microsoft® Word for Microsoft 365', 'creationdate': '2024-12-04T10:26:31+05:45', 'source': '22067317_Hridaya_Giri_Proposal.pdf', 'file_path': '22067317_Hridaya_Giri_Proposal.pdf', 'total_pages': 35, 'format': 'PDF 1.7', 'title': '', 'author': 'Hridaya Giri', 'subject': '', 'keywords': '', 'moddate': '2024-12-04T10:26:31+05:45', 'trapped': '', 'modDate': \"D:20241204102631+05'45'\", 'creationDate': \"D:20241204102631+05'45'\", 'page': 34}, page_content='1. Adapts easily to new data, user needs, and supervisor-requested \\nadjustments.  \\n2. Consider suggestions from supervisors, such as adding new features without \\naffecting existing ones.  \\n \\n5. Regular Progress Reviews.  \\n1. Conduct end-of-sprint reviews and set goals for future sprints. Monitor \\nprogress on prediction, recommendations, and prevention tips with end users \\nand supervisor.')]"
      ]
     },
     "execution_count": 100,
     "metadata": {},
     "output_type": "execute_result"
    }
   ],
   "source": [
    "cross_encoder_retriever.get_relevant_documents(\"hello\",top_k = 3)"
   ]
  },
  {
   "cell_type": "markdown",
   "id": "1a4814c1",
   "metadata": {},
   "source": [
    "#### System prompt for context-based, precise answers."
   ]
  },
  {
   "cell_type": "code",
   "execution_count": 101,
   "id": "e8ddab28",
   "metadata": {},
   "outputs": [],
   "source": [
    "system_prompt = \"\"\"\n",
    "You are an AI assistant tasked with providing detailed answers based solely on the given context. Your goal is to analyze the information provided and formulate a comprehensive, well-structured response to the question.\n",
    "\n",
    "context will be passed as \"Context:\"\n",
    "user question will be passed as \"Question:\"\n",
    "\n",
    "To answer the question:\n",
    "1. Thoroughly analyze the context, identifying key information relevant to the question.\n",
    "2. Organize your thoughts and plan your response to ensure a logical flow of information.\n",
    "3. Formulate a detailed answer that directly addresses the question, using only the information provided in the context.\n",
    "4. Ensure your answer is comprehensive, covering all relevant aspects found in the context.\n",
    "5. If the context doesn't contain sufficient information to fully answer the question, state this clearly in your response.\n",
    "\n",
    "Format your response as follows:\n",
    "1. Use clear, concise language.\n",
    "2. Organize your answer into paragraphs for readability.\n",
    "3. Use bullet points or numbered lists where appropriate to break down complex information.\n",
    "4. If relevant, include any headings or subheadings to structure your response.\n",
    "5. Ensure proper grammar, punctuation, and spelling throughout your answer.\n",
    "\n",
    "Important: Base your entire response solely on the information provided in the context. Do not include any external knowledge or assumptions not present in the given text.\n",
    "\"\"\""
   ]
  },
  {
   "cell_type": "markdown",
   "id": "70bb5775",
   "metadata": {},
   "source": [
    "#### Streaming context-aware answers from LLaMA 3.2 using Ollama API with system and user prompts.\n"
   ]
  },
  {
   "cell_type": "code",
   "execution_count": 102,
   "id": "34ab8446",
   "metadata": {},
   "outputs": [],
   "source": [
    "\n",
    "def callModel(context, prompt):\n",
    "    \n",
    "    response = ollama.chat(\n",
    "\n",
    "        model = \"llama3.2\",\n",
    "        stream = True,\n",
    "        messages = [\n",
    "\n",
    "            {\"role\" : \"system\", \"content\" : system_prompt},\n",
    "            {\"role\" : \"user\", \"content\" : f\"Context{context}, Question{prompt}\",},\n",
    "        ]\n",
    "    )\n",
    "    for chunk in response:\n",
    "        if chunk[\"done\"] == False:\n",
    "            yield chunk[\"message\"][\"content\"]\n",
    "        else:\n",
    "            break\n",
    "    \n"
   ]
  },
  {
   "cell_type": "markdown",
   "id": "ba469b7a",
   "metadata": {},
   "source": [
    "#### Stream answer from the model"
   ]
  },
  {
   "cell_type": "code",
   "execution_count": 117,
   "id": "496b789a",
   "metadata": {},
   "outputs": [
    {
     "name": "stdout",
     "output_type": "stream",
     "text": [
      "🤖 Chatbot is running. Type 'quit' or 'exit' to end the session.\n",
      "\n",
      "\n",
      "📩 Question: what is KnowYourHair ?\n",
      "💬 Answer: Question: What is KnowYourHair?\n",
      "\n",
      "1. **Overview of KnowYourHair**: KnowYourHair is a web application designed to predict an individual's future risk of hair loss based on key inputs such as family history, lifestyle habits, nutrition, and other additional factors.\n",
      "\n",
      "2. **Key Features**:\n",
      "    * Provides personalized predictions for hair loss risk\n",
      "    * Offers complete information about clinics and their services\n",
      "    * Integrates with hair care products and clinics directly through the web application\n",
      "    * Includes a list of hair care products and medications with detailed descriptions\n",
      "    * Offers instructional waterfall cascades in 5 stages, from Requirements to Maintenance\n",
      "\n",
      "3. **Waterfall Methodology Stages**:\n",
      "    * **Requirements**: Specifies project requirements, determines project scope, and gathers necessary requirements.\n",
      "        + Involves market research, stakeholder and end-user engagement to understand market trends and user needs.\n",
      "    * **Prototype Development**: Develops the prototype based on gathered requirements.\n",
      "    * **Design**: Designs the solution to fulfill all requirements gathered in the Requirements stage.\n",
      "    * **Implementation**: Implements the designed solution (not explicitly mentioned in the context).\n",
      "    * **Testing**: Tests the implemented solution for bugs, glitches, or errors (not explicitly mentioned in the context).\n",
      "\n",
      "4. **Purpose and Benefits**: KnowYourHair aims to provide an effective solution for predicting and managing future hair loss risk. It emphasizes the importance of consulting a dermatologist for effective hair loss prevention and offers a user-friendly platform to access information about clinics and hair care products.\n",
      "\n",
      "5. **Conclusion**: The \"KnowYourHair\" web application combines predictive analytics, user-friendly design, and integration with hair care products and clinics to provide an effective solution for predicting and managing future hair loss risk.\n",
      "\n",
      "👋 Chatbot session ended.\n"
     ]
    }
   ],
   "source": [
    "def answer_query(query):\n",
    "    top_docs = cross_encoder_retriever.get_relevant_documents(query, top_k=10)\n",
    "    \n",
    "    context = \"\\n\".join([doc.page_content for doc in top_docs])\n",
    "    \n",
    "    print(f\"\\n📩 Question: {query}\")\n",
    "    print(\"💬 Answer:\", end=\" \", flush=True)\n",
    "    for chunk in callModel(context, query):\n",
    "        print(chunk, end=\"\", flush=True) \n",
    "    print(\"\\n\")  \n",
    "\n",
    "\n",
    "print(\"🤖 Chatbot is running. Type 'quit' or 'exit' to end the session.\\n\")\n",
    "while True:\n",
    "    user_input = input(\"You: \")\n",
    "    if user_input.lower() in [\"quit\", \"exit\"]:\n",
    "        print(\"👋 Chatbot session ended.\")\n",
    "        break\n",
    "    answer_query(user_input)\n"
   ]
  }
 ],
 "metadata": {
  "kernelspec": {
   "display_name": "env",
   "language": "python",
   "name": "python3"
  },
  "language_info": {
   "codemirror_mode": {
    "name": "ipython",
    "version": 3
   },
   "file_extension": ".py",
   "mimetype": "text/x-python",
   "name": "python",
   "nbconvert_exporter": "python",
   "pygments_lexer": "ipython3",
   "version": "3.11.0"
  }
 },
 "nbformat": 4,
 "nbformat_minor": 5
}
